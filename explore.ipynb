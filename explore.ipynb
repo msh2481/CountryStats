{
 "cells": [
  {
   "cell_type": "code",
   "execution_count": 31,
   "metadata": {},
   "outputs": [
    {
     "name": "stdout",
     "output_type": "stream",
     "text": [
      "The autoreload extension is already loaded. To reload it, use:\n",
      "  %reload_ext autoreload\n"
     ]
    }
   ],
   "source": [
    "import json\n",
    "import os\n",
    "import random\n",
    "import shutil\n",
    "import sys\n",
    "import time\n",
    "from collections import defaultdict\n",
    "from itertools import chain, cycle, islice, product\n",
    "from typing import Annotated, Any\n",
    "\n",
    "import einops as ein\n",
    "import matplotlib.pyplot as plt\n",
    "import numpy as np\n",
    "import pandas as pd\n",
    "from beartype import beartype as typed\n",
    "from beartype.door import die_if_unbearable as assert_type\n",
    "from beartype.typing import Callable, Iterable\n",
    "from beartype.vale import Is\n",
    "from jaxtyping import Bool, Float, Int\n",
    "from numpy import ndarray as ND\n",
    "from tqdm import tqdm\n",
    "\n",
    "Country = str\n",
    "Metric = str\n",
    "Year = int\n",
    "\n",
    "%load_ext autoreload\n",
    "%autoreload 2"
   ]
  },
  {
   "cell_type": "code",
   "execution_count": 32,
   "metadata": {},
   "outputs": [],
   "source": [
    "data = pd.read_csv(\"data.csv\", index_col=0)"
   ]
  },
  {
   "cell_type": "code",
   "execution_count": 33,
   "metadata": {},
   "outputs": [],
   "source": [
    "@typed\n",
    "def get_metric(\n",
    "    metric: Metric,\n",
    "    country: Country,\n",
    "    start_year: Year | None = None,\n",
    "    end_year: Year | None = None,\n",
    ") -> ND:\n",
    "    mask = data[\"country\"] == country\n",
    "    if start_year is not None:\n",
    "        mask = mask & (data[\"year\"] >= start_year)\n",
    "    if end_year is not None:\n",
    "        mask = mask & (data[\"year\"] <= end_year)\n",
    "    years = data[mask][\"year\"].to_list()\n",
    "    if start_year is not None:\n",
    "        assert min(years) == start_year\n",
    "    if end_year is not None:\n",
    "        assert max(years) == end_year\n",
    "    return np.array(data[mask][metric])"
   ]
  },
  {
   "cell_type": "code",
   "execution_count": 58,
   "metadata": {},
   "outputs": [],
   "source": [
    "@typed\n",
    "def fuzzy_country(country: str) -> str:\n",
    "    candidates = set()\n",
    "    for c in data[\"country\"]:\n",
    "        if country in c:\n",
    "            candidates.add(c)\n",
    "    print(candidates)\n",
    "    assert len(candidates) == 1\n",
    "    return next(iter(candidates))\n",
    "\n",
    "@typed\n",
    "def country_mask(country:str) -> pd.Series:\n",
    "    full_name = fuzzy_country(country)\n",
    "    return data[\"country\"] == full_name"
   ]
  },
  {
   "cell_type": "code",
   "execution_count": 60,
   "metadata": {},
   "outputs": [
    {
     "name": "stdout",
     "output_type": "stream",
     "text": [
      "{'Korea (Republic of)'}\n"
     ]
    },
    {
     "data": {
      "text/html": [
       "<div>\n",
       "<style scoped>\n",
       "    .dataframe tbody tr th:only-of-type {\n",
       "        vertical-align: middle;\n",
       "    }\n",
       "\n",
       "    .dataframe tbody tr th {\n",
       "        vertical-align: top;\n",
       "    }\n",
       "\n",
       "    .dataframe thead th {\n",
       "        text-align: right;\n",
       "    }\n",
       "</style>\n",
       "<table border=\"1\" class=\"dataframe\">\n",
       "  <thead>\n",
       "    <tr style=\"text-align: right;\">\n",
       "      <th></th>\n",
       "      <th>country</th>\n",
       "      <th>hdi</th>\n",
       "    </tr>\n",
       "  </thead>\n",
       "  <tbody>\n",
       "    <tr>\n",
       "      <th>3039</th>\n",
       "      <td>Korea (Republic of)</td>\n",
       "      <td>0.925</td>\n",
       "    </tr>\n",
       "  </tbody>\n",
       "</table>\n",
       "</div>"
      ],
      "text/plain": [
       "                  country    hdi\n",
       "3039  Korea (Republic of)  0.925"
      ]
     },
     "execution_count": 60,
     "metadata": {},
     "output_type": "execute_result"
    }
   ],
   "source": [
    "data[(data[\"year\"] == 2021) & country_mask(\"Korea (Republic\")][[\"country\", \"hdi\"]].sort_values(\"hdi\", ascending=False).head(60)"
   ]
  },
  {
   "cell_type": "code",
   "execution_count": null,
   "metadata": {},
   "outputs": [],
   "source": [
    "get_metric(\"hdi\", \"Ru\", 2017, 2020)"
   ]
  }
 ],
 "metadata": {
  "kernelspec": {
   "display_name": "Python 3",
   "language": "python",
   "name": "python3"
  },
  "language_info": {
   "codemirror_mode": {
    "name": "ipython",
    "version": 3
   },
   "file_extension": ".py",
   "mimetype": "text/x-python",
   "name": "python",
   "nbconvert_exporter": "python",
   "pygments_lexer": "ipython3",
   "version": "3.10.12"
  }
 },
 "nbformat": 4,
 "nbformat_minor": 2
}
