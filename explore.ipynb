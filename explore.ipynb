{
 "cells": [
  {
   "cell_type": "code",
   "execution_count": 1,
   "metadata": {},
   "outputs": [],
   "source": [
    "import json\n",
    "import os\n",
    "import random\n",
    "import shutil\n",
    "import sys\n",
    "import time\n",
    "from collections import defaultdict\n",
    "from itertools import chain, cycle, islice, product\n",
    "from typing import Annotated, Any\n",
    "\n",
    "import einops as ein\n",
    "import matplotlib.pyplot as plt\n",
    "import numpy as np\n",
    "import pandas as pd\n",
    "from beartype import beartype as typed\n",
    "from beartype.door import die_if_unbearable as assert_type\n",
    "from beartype.typing import Callable, Iterable\n",
    "from beartype.vale import Is\n",
    "from jaxtyping import Bool, Float, Int\n",
    "from numpy import ndarray as ND\n",
    "from tqdm import tqdm\n",
    "\n",
    "Country = str\n",
    "Metric = str\n",
    "Year = int\n",
    "\n",
    "%load_ext autoreload\n",
    "%autoreload 2"
   ]
  },
  {
   "cell_type": "code",
   "execution_count": 2,
   "metadata": {},
   "outputs": [],
   "source": [
    "data = pd.read_csv(\"data.csv\", index_col=0)"
   ]
  },
  {
   "cell_type": "code",
   "execution_count": 3,
   "metadata": {},
   "outputs": [],
   "source": [
    "@typed\n",
    "def find_iso(country: str) -> str:\n",
    "    candidates = set()\n",
    "    for _, c in data.iterrows():\n",
    "        if country in c[\"country\"]:\n",
    "            candidates.add(c[\"iso3\"])\n",
    "    print(candidates)\n",
    "    assert len(candidates) == 1\n",
    "    return next(iter(candidates))\n",
    "\n",
    "\n",
    "@typed\n",
    "def country_mask(country: str) -> pd.Series:\n",
    "    iso3 = find_iso(country)\n",
    "    return data[\"iso3\"] == iso3\n",
    "\n",
    "\n",
    "@typed\n",
    "def get_metric(\n",
    "    metric: Metric,\n",
    "    country: Country,\n",
    "    start_year: Year | None = None,\n",
    "    end_year: Year | None = None,\n",
    ") -> ND:\n",
    "    mask = country_mask(country)\n",
    "    if start_year is not None:\n",
    "        mask = mask & (data[\"year\"] >= start_year)\n",
    "    if end_year is not None:\n",
    "        mask = mask & (data[\"year\"] <= end_year)\n",
    "    years = data[mask][\"year\"].to_list()\n",
    "    if start_year is not None:\n",
    "        assert min(years) == start_year\n",
    "    if end_year is not None:\n",
    "        assert max(years) == end_year\n",
    "    return np.array(data[mask][metric])"
   ]
  },
  {
   "cell_type": "code",
   "execution_count": 5,
   "metadata": {},
   "outputs": [
    {
     "name": "stdout",
     "output_type": "stream",
     "text": [
      "{'RUS'}\n"
     ]
    },
    {
     "data": {
      "text/plain": [
       "array([1454000., 1454000., 1454000., 1454000., 1454000., 1454000.,\n",
       "       1454000., 1454000., 1454000., 1454000., 1454000., 1454000.,\n",
       "       1454000., 1454000., 1454000., 1454000., 1454000., 1454000.,\n",
       "       1454000., 1454000., 1454000., 1454000., 1454000., 1454000.,\n",
       "       1454000., 1454000., 1454000., 1454000., 1454000., 1454000.,\n",
       "       1454000., 1454000.])"
      ]
     },
     "execution_count": 5,
     "metadata": {},
     "output_type": "execute_result"
    }
   ],
   "source": [
    "get_metric(\"army\", \"Russia\", 1990, 2021)"
   ]
  },
  {
   "cell_type": "code",
   "execution_count": 12,
   "metadata": {},
   "outputs": [
    {
     "ename": "TypeError",
     "evalue": "unsupported operand type(s) for /: 'str' and 'str'",
     "output_type": "error",
     "traceback": [
      "\u001b[0;31m---------------------------------------------------------------------------\u001b[0m",
      "\u001b[0;31mTypeError\u001b[0m                                 Traceback (most recent call last)",
      "Cell \u001b[0;32mIn [12], line 5\u001b[0m\n\u001b[1;32m      3\u001b[0m \u001b[38;5;28;01mfor\u001b[39;00m m \u001b[38;5;129;01min\u001b[39;00m metrics:\n\u001b[1;32m      4\u001b[0m     arr \u001b[38;5;241m=\u001b[39m get_metric(m, \u001b[38;5;124m\"\u001b[39m\u001b[38;5;124mRussia\u001b[39m\u001b[38;5;124m\"\u001b[39m, \u001b[38;5;241m1990\u001b[39m, \u001b[38;5;241m2021\u001b[39m)\n\u001b[0;32m----> 5\u001b[0m     arr \u001b[38;5;241m/\u001b[39m\u001b[38;5;241m=\u001b[39m arr[\u001b[38;5;241m0\u001b[39m]\n\u001b[1;32m      6\u001b[0m     plt\u001b[38;5;241m.\u001b[39mplot(arr, label\u001b[38;5;241m=\u001b[39mm)\n\u001b[1;32m      7\u001b[0m plt\u001b[38;5;241m.\u001b[39mlegend()\n",
      "\u001b[0;31mTypeError\u001b[0m: unsupported operand type(s) for /: 'str' and 'str'"
     ]
    },
    {
     "data": {
      "image/png": "[encoded data removed]",
      "text/plain": [
       "<Figure size 640x480 with 1 Axes>"
      ]
     },
     "metadata": {},
     "output_type": "display_data"
    }
   ],
   "source": [
    "metrics = [\"hdi\", \"gdppc\", \"army\"]\n",
    "\n",
    "for m in metrics:\n",
    "    arr = get_metric(m, \"Russia\", 1990, 2021)\n",
    "    arr /= arr[0]\n",
    "    plt.plot(arr, label=m)\n",
    "plt.legend()\n",
    "plt.show()"
   ]
  }
 ],
 "metadata": {
  "kernelspec": {
   "display_name": "Python 3",
   "language": "python",
   "name": "python3"
  },
  "language_info": {
   "codemirror_mode": {
    "name": "ipython",
    "version": 3
   },
   "file_extension": ".py",
   "mimetype": "text/x-python",
   "name": "python",
   "nbconvert_exporter": "python",
   "pygments_lexer": "ipython3",
   "version": "3.10.12"
  }
 },
 "nbformat": 4,
 "nbformat_minor": 2
}
